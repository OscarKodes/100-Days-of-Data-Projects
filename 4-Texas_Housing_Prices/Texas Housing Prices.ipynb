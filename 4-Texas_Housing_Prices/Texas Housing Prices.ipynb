{
 "cells": [
  {
   "cell_type": "markdown",
   "id": "8a88a2a7",
   "metadata": {},
   "source": [
    "# Texas Housing Prices\n",
    "\n",
    "---\n",
    "\n",
    "This project is part of my \"100 Days of Data Projects.\"\n",
    "\n",
    "With this data, I hope to build and compare regression models for predicting housing prices in Austin, Texas.\n",
    "\n",
    "---\n",
    "\n",
    "This dataset consists of about 15.2K house records of Zillow home listings and 47 features.\n",
    "\n",
    "Source: https://www.kaggle.com/datasets/ericpierce/austinhousingprices"
   ]
  },
  {
   "cell_type": "markdown",
   "id": "0bf62965",
   "metadata": {},
   "source": [
    "# Import Data and Packages"
   ]
  },
  {
   "cell_type": "code",
   "execution_count": 2,
   "id": "1c889dbd",
   "metadata": {},
   "outputs": [],
   "source": [
    "import numpy as np\n",
    "import pandas as pd \n",
    "\n",
    "data = pd.read_csv(\"texas_housing_prices.csv\")"
   ]
  },
  {
   "cell_type": "markdown",
   "id": "1d8b124e",
   "metadata": {},
   "source": [
    "# Check the Size and Type of Data"
   ]
  },
  {
   "cell_type": "code",
   "execution_count": 3,
   "id": "c3ee868a",
   "metadata": {},
   "outputs": [
    {
     "name": "stdout",
     "output_type": "stream",
     "text": [
      "(15171, 47)\n"
     ]
    }
   ],
   "source": [
    "# check the number of rows and features\n",
    "\n",
    "print(data.shape)"
   ]
  },
  {
   "cell_type": "code",
   "execution_count": 4,
   "id": "b3c834fa",
   "metadata": {
    "scrolled": true
   },
   "outputs": [
    {
     "name": "stdout",
     "output_type": "stream",
     "text": [
      "<class 'pandas.core.frame.DataFrame'>\n",
      "RangeIndex: 15171 entries, 0 to 15170\n",
      "Data columns (total 47 columns):\n",
      " #   Column                      Non-Null Count  Dtype  \n",
      "---  ------                      --------------  -----  \n",
      " 0   zpid                        15171 non-null  int64  \n",
      " 1   city                        15171 non-null  object \n",
      " 2   streetAddress               15171 non-null  object \n",
      " 3   zipcode                     15171 non-null  int64  \n",
      " 4   description                 15171 non-null  object \n",
      " 5   latitude                    15171 non-null  float64\n",
      " 6   longitude                   15171 non-null  float64\n",
      " 7   propertyTaxRate             15171 non-null  float64\n",
      " 8   garageSpaces                15171 non-null  int64  \n",
      " 9   hasAssociation              15171 non-null  bool   \n",
      " 10  hasCooling                  15171 non-null  bool   \n",
      " 11  hasGarage                   15171 non-null  bool   \n",
      " 12  hasHeating                  15171 non-null  bool   \n",
      " 13  hasSpa                      15171 non-null  bool   \n",
      " 14  hasView                     15171 non-null  bool   \n",
      " 15  homeType                    15171 non-null  object \n",
      " 16  parkingSpaces               15171 non-null  int64  \n",
      " 17  yearBuilt                   15171 non-null  int64  \n",
      " 18  latestPrice                 15171 non-null  float64\n",
      " 19  numPriceChanges             15171 non-null  int64  \n",
      " 20  latest_saledate             15171 non-null  object \n",
      " 21  latest_salemonth            15171 non-null  int64  \n",
      " 22  latest_saleyear             15171 non-null  int64  \n",
      " 23  latestPriceSource           15171 non-null  object \n",
      " 24  numOfPhotos                 15171 non-null  int64  \n",
      " 25  numOfAccessibilityFeatures  15171 non-null  int64  \n",
      " 26  numOfAppliances             15171 non-null  int64  \n",
      " 27  numOfParkingFeatures        15171 non-null  int64  \n",
      " 28  numOfPatioAndPorchFeatures  15171 non-null  int64  \n",
      " 29  numOfSecurityFeatures       15171 non-null  int64  \n",
      " 30  numOfWaterfrontFeatures     15171 non-null  int64  \n",
      " 31  numOfWindowFeatures         15171 non-null  int64  \n",
      " 32  numOfCommunityFeatures      15171 non-null  int64  \n",
      " 33  lotSizeSqFt                 15171 non-null  float64\n",
      " 34  livingAreaSqFt              15171 non-null  float64\n",
      " 35  numOfPrimarySchools         15171 non-null  int64  \n",
      " 36  numOfElementarySchools      15171 non-null  int64  \n",
      " 37  numOfMiddleSchools          15171 non-null  int64  \n",
      " 38  numOfHighSchools            15171 non-null  int64  \n",
      " 39  avgSchoolDistance           15171 non-null  float64\n",
      " 40  avgSchoolRating             15171 non-null  float64\n",
      " 41  avgSchoolSize               15171 non-null  int64  \n",
      " 42  MedianStudentsPerTeacher    15171 non-null  int64  \n",
      " 43  numOfBathrooms              15171 non-null  float64\n",
      " 44  numOfBedrooms               15171 non-null  int64  \n",
      " 45  numOfStories                15171 non-null  int64  \n",
      " 46  homeImage                   15171 non-null  object \n",
      "dtypes: bool(6), float64(9), int64(25), object(7)\n",
      "memory usage: 4.8+ MB\n"
     ]
    }
   ],
   "source": [
    "# check the data types\n",
    "\n",
    "data.info()"
   ]
  },
  {
   "cell_type": "markdown",
   "id": "7ee58b0c",
   "metadata": {},
   "source": [
    "# Train-Test Split"
   ]
  },
  {
   "cell_type": "code",
   "execution_count": 5,
   "id": "3a5de449",
   "metadata": {},
   "outputs": [
    {
     "name": "stdout",
     "output_type": "stream",
     "text": [
      "X_train.shape =  (12136, 46)\n",
      "X_test.shape =  (3035, 46)\n",
      "y_train.shape =  (12136,)\n",
      "y_test.shape =  (3035,)\n"
     ]
    }
   ],
   "source": [
    "# import package for splitting\n",
    "from sklearn.model_selection import train_test_split\n",
    "\n",
    "# declare our X inputs and y outcomes\n",
    "X = data.drop(\"latestPrice\", axis=1)\n",
    "y = data[\"latestPrice\"]\n",
    "\n",
    "# split\n",
    "X_train, X_test, y_train, y_test = train_test_split(X, \n",
    "                                                    y,\n",
    "                                                    #stratify=y, \n",
    "                                                    test_size=0.2)\n",
    "\n",
    "print(\"X_train.shape = \", X_train.shape)\n",
    "print(\"X_test.shape = \", X_test.shape)\n",
    "\n",
    "print(\"y_train.shape = \", y_train.shape)\n",
    "print(\"y_test.shape = \", y_test.shape)\n",
    "\n",
    "# print(\"\\n\")\n",
    "# print(\"y_train class proportions: \\n\", y_train.value_counts(normalize=True))\n",
    "\n",
    "# print(\"\\n\")\n",
    "# print(\"y_test class proportions: \\n\", y_test.value_counts(normalize=True))"
   ]
  },
  {
   "cell_type": "markdown",
   "id": "3948daad",
   "metadata": {},
   "source": [
    "# Explore the Data\n",
    "\n",
    "1) Get to know each feature:\n",
    "- Name\n",
    "- Type\n",
    "- Missing Values\n",
    "- Noise (Stocastic, outliers, rounding errors, e.t.c.)\n",
    "- Usefulness for the task at hand\n",
    "- Distribution type (Gaussian, uniform, logarithmic, e.t.c)\n",
    "\n",
    "2) Identify the target attribute.\n",
    "\n",
    "3) Visualize the data.\n",
    "\n",
    "4) Study the correlations b/w attributes.\n",
    "\n",
    "5) Identify what transformations to the features you might want to apply.\n",
    "\n",
    "6) Document what you have learned.\n",
    "\n",
    "   "
   ]
  },
  {
   "cell_type": "markdown",
   "id": "5e3d43c9",
   "metadata": {},
   "source": [
    "# Prepare the data\n",
    "\n",
    "(Write functions for all data transformations applied.)\n",
    "\n",
    "1) Data Cleaning\n",
    "\n",
    "- Fix or remove outliers (optional)\n",
    "\n",
    "- Imputate for missing values, drop rows, or drop columns\n",
    "\n",
    "2) Feature selection (optional)\n",
    "\n",
    "- Drop attributes that provide no useful information for the task.\n",
    "\n",
    "3) Feature engineering where appropriate:\n",
    "\n",
    "- Bin continuous features\n",
    "\n",
    "- Decompose features (categorical, data/time, e.t.c.)\n",
    "\n",
    "- Add promissing transformation of features (log, sqrt, ^2, e.t.c.)\n",
    "\n",
    "- Aggregate features into promising new features\n",
    "\n",
    "4) Feature scaling: Standardize or normalize features"
   ]
  },
  {
   "cell_type": "markdown",
   "id": "8179a383",
   "metadata": {},
   "source": [
    "# Short-list promising models\n",
    "\n",
    "(If the data is huge, you may want to sample smaller training sets so you can train many different models in a reasonable time. Be aware that this penalizes complex models such as large neural nets or Random Forests).\n",
    "\n",
    "(Try to automate these steps as much as possible.)\n",
    "\n",
    "1) Train many quick and dirty models from different categories with default parameters\n",
    "\n",
    "2) Measure and compare their performance.\n",
    "\n",
    "3) For each model, use N-fold cross-validation and compute the mean and standard deviation of their performance.\n",
    "\n",
    "4) Analyze the most significant variables for each algorithm.\n",
    "\n",
    "5) Analyze the types of errors the models make.\n",
    "\n",
    "- What data could be used to avoid these errors?\n",
    "\n",
    "6) Have a quick round of feature selection and engineering.\n",
    "\n",
    "7) Have one or two more quick iterations of the five previous steps.\n",
    "\n",
    "8) Short-list the top three to five most promising models, preferring models that make different types of errors."
   ]
  },
  {
   "cell_type": "markdown",
   "id": "4dec3f41",
   "metadata": {},
   "source": [
    "# Fine-Tune the System\n",
    "\n",
    "(You will want to use as much data as possible for this step, especially as you move toward the end of fine-tuning.)\n",
    "\n",
    "(As always automate what you can.)\n",
    "\n",
    "1) Fine-tune the hyperparameters using cross-validation\n",
    "\n",
    "- Treat your data transformation choices as hyperparameters, especially when you are not sure about them (e.g., should I replace missing values with zero or the median value? Or just drop the rows?).\n",
    "\n",
    "- Unless there are very few hyperparamter values to explore, prefer random search over grid search. If training is very long, you may prefer a Bayesian optimization approach (e.g., using a Gaussian process priors, as described by Jasper Snoek, Hugo Larochelle, and Ryan Adams (https://goo.gl/PEFfGr))\n",
    "\n",
    "2) Try Ensemble methods. Combining your best models will often perform better than running them invdividually.\n",
    "\n",
    "3) Once you are confident about your final model, measure its performance on the test set to estimate the generalization error.\n",
    "\n",
    "(Don't tweak your model after measuring the generalization error: you would just start overfitting the test set.)"
   ]
  },
  {
   "cell_type": "markdown",
   "id": "7054b6a7",
   "metadata": {},
   "source": [
    "# Present your solution\n",
    "\n",
    "- Document what you have done.\n",
    "\n",
    "- Create a nice presentation.\n",
    "\n",
    "    - Make sure you highlight the big picture first.\n",
    "\n",
    "- Explain why your solution achieves the business objective.\n",
    "\n",
    "- Don't forget to present interesting points you noticed along the way.\n",
    "\n",
    "    - Describe what worked and what did not.\n",
    "\n",
    "    - List your assumptions and your system's limitations.\n",
    "\n",
    "- Ensure your key findings are communicated through beautiful visualizations or easy-to-remember statements (e.g., \"the median income is the number-one predictor of housing prices\")."
   ]
  }
 ],
 "metadata": {
  "kernelspec": {
   "display_name": "Python 3 (ipykernel)",
   "language": "python",
   "name": "python3"
  },
  "language_info": {
   "codemirror_mode": {
    "name": "ipython",
    "version": 3
   },
   "file_extension": ".py",
   "mimetype": "text/x-python",
   "name": "python",
   "nbconvert_exporter": "python",
   "pygments_lexer": "ipython3",
   "version": "3.9.7"
  }
 },
 "nbformat": 4,
 "nbformat_minor": 5
}
