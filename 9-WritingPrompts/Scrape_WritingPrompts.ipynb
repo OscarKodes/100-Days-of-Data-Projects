{
 "cells": [
  {
   "cell_type": "markdown",
   "id": "bd7df194",
   "metadata": {},
   "source": [
    "# SCRAPE WRITINGPROMPTS\n",
    "\n",
    "Referenced Link for Scraping Methods: https://towardsdatascience.com/scraping-reddit-data-1c0af3040768"
   ]
  },
  {
   "cell_type": "markdown",
   "id": "69f57b17",
   "metadata": {},
   "source": [
    "---\n",
    "---\n",
    "\n",
    "# SETUP STEPS:"
   ]
  },
  {
   "cell_type": "markdown",
   "id": "b3c9416b",
   "metadata": {},
   "source": [
    "## Import env for API Keys"
   ]
  },
  {
   "cell_type": "code",
   "execution_count": 1,
   "id": "d0c9bde3",
   "metadata": {},
   "outputs": [
    {
     "data": {
      "text/plain": [
       "True"
      ]
     },
     "execution_count": 1,
     "metadata": {},
     "output_type": "execute_result"
    }
   ],
   "source": [
    "from dotenv import load_dotenv\n",
    "import os\n",
    "\n",
    "load_dotenv()"
   ]
  },
  {
   "cell_type": "markdown",
   "id": "ea6590cb",
   "metadata": {},
   "source": [
    "## Create PRAW instance"
   ]
  },
  {
   "cell_type": "code",
   "execution_count": 2,
   "id": "fc10556e",
   "metadata": {},
   "outputs": [
    {
     "data": {
      "text/plain": [
       "praw.reddit.Reddit"
      ]
     },
     "execution_count": 2,
     "metadata": {},
     "output_type": "execute_result"
    }
   ],
   "source": [
    "import praw\n",
    "\n",
    "reddit = praw.Reddit(client_id=os.getenv(\"my_client_id\"), \n",
    "                     client_secret=os.getenv(\"my_client_secret\"), \n",
    "                     user_agent=os.getenv(\"my_user_agent\"))\n",
    "\n",
    "type(reddit)"
   ]
  },
  {
   "cell_type": "markdown",
   "id": "8592749c",
   "metadata": {},
   "source": [
    "## Reddit Posts into Pandas DataFrame"
   ]
  },
  {
   "cell_type": "code",
   "execution_count": 10,
   "id": "14f191b3",
   "metadata": {},
   "outputs": [
    {
     "name": "stdout",
     "output_type": "stream",
     "text": [
      "1000 top posts of all time scraped.\n"
     ]
    },
    {
     "data": {
      "text/html": [
       "<div>\n",
       "<style scoped>\n",
       "    .dataframe tbody tr th:only-of-type {\n",
       "        vertical-align: middle;\n",
       "    }\n",
       "\n",
       "    .dataframe tbody tr th {\n",
       "        vertical-align: top;\n",
       "    }\n",
       "\n",
       "    .dataframe thead th {\n",
       "        text-align: right;\n",
       "    }\n",
       "</style>\n",
       "<table border=\"1\" class=\"dataframe\">\n",
       "  <thead>\n",
       "    <tr style=\"text-align: right;\">\n",
       "      <th></th>\n",
       "      <th>title</th>\n",
       "      <th>score</th>\n",
       "      <th>id</th>\n",
       "      <th>subreddit</th>\n",
       "      <th>url</th>\n",
       "      <th>num_comments</th>\n",
       "      <th>body</th>\n",
       "      <th>created</th>\n",
       "    </tr>\n",
       "  </thead>\n",
       "  <tbody>\n",
       "    <tr>\n",
       "      <th>0</th>\n",
       "      <td>[WP] The year is 1910. Adolf Hitler, a struggl...</td>\n",
       "      <td>49243</td>\n",
       "      <td>5uilpw</td>\n",
       "      <td>WritingPrompts</td>\n",
       "      <td>https://www.reddit.com/r/WritingPrompts/commen...</td>\n",
       "      <td>763</td>\n",
       "      <td></td>\n",
       "      <td>1.487286e+09</td>\n",
       "    </tr>\n",
       "    <tr>\n",
       "      <th>1</th>\n",
       "      <td>[WP] The year is 2038 and net neutrality has b...</td>\n",
       "      <td>40351</td>\n",
       "      <td>7en7vl</td>\n",
       "      <td>WritingPrompts</td>\n",
       "      <td>https://www.reddit.com/r/WritingPrompts/commen...</td>\n",
       "      <td>395</td>\n",
       "      <td>https://www.battleforthenet.com/#bftn-action-f...</td>\n",
       "      <td>1.511316e+09</td>\n",
       "    </tr>\n",
       "    <tr>\n",
       "      <th>2</th>\n",
       "      <td>[WP] “I’ll tell you what I’m going to do Mr Bo...</td>\n",
       "      <td>37755</td>\n",
       "      <td>7vt58k</td>\n",
       "      <td>WritingPrompts</td>\n",
       "      <td>https://www.reddit.com/r/WritingPrompts/commen...</td>\n",
       "      <td>378</td>\n",
       "      <td></td>\n",
       "      <td>1.517973e+09</td>\n",
       "    </tr>\n",
       "    <tr>\n",
       "      <th>3</th>\n",
       "      <td>[WP] You lost your sight - along with everyone...</td>\n",
       "      <td>34972</td>\n",
       "      <td>cvoaso</td>\n",
       "      <td>WritingPrompts</td>\n",
       "      <td>https://www.reddit.com/r/WritingPrompts/commen...</td>\n",
       "      <td>771</td>\n",
       "      <td></td>\n",
       "      <td>1.566827e+09</td>\n",
       "    </tr>\n",
       "    <tr>\n",
       "      <th>4</th>\n",
       "      <td>[WP] When you die, you appear in a cinema with...</td>\n",
       "      <td>33586</td>\n",
       "      <td>7ezd5t</td>\n",
       "      <td>WritingPrompts</td>\n",
       "      <td>https://www.reddit.com/r/WritingPrompts/commen...</td>\n",
       "      <td>529</td>\n",
       "      <td></td>\n",
       "      <td>1.511441e+09</td>\n",
       "    </tr>\n",
       "  </tbody>\n",
       "</table>\n",
       "</div>"
      ],
      "text/plain": [
       "                                               title  score      id  \\\n",
       "0  [WP] The year is 1910. Adolf Hitler, a struggl...  49243  5uilpw   \n",
       "1  [WP] The year is 2038 and net neutrality has b...  40351  7en7vl   \n",
       "2  [WP] “I’ll tell you what I’m going to do Mr Bo...  37755  7vt58k   \n",
       "3  [WP] You lost your sight - along with everyone...  34972  cvoaso   \n",
       "4  [WP] When you die, you appear in a cinema with...  33586  7ezd5t   \n",
       "\n",
       "        subreddit                                                url  \\\n",
       "0  WritingPrompts  https://www.reddit.com/r/WritingPrompts/commen...   \n",
       "1  WritingPrompts  https://www.reddit.com/r/WritingPrompts/commen...   \n",
       "2  WritingPrompts  https://www.reddit.com/r/WritingPrompts/commen...   \n",
       "3  WritingPrompts  https://www.reddit.com/r/WritingPrompts/commen...   \n",
       "4  WritingPrompts  https://www.reddit.com/r/WritingPrompts/commen...   \n",
       "\n",
       "   num_comments                                               body  \\\n",
       "0           763                                                      \n",
       "1           395  https://www.battleforthenet.com/#bftn-action-f...   \n",
       "2           378                                                      \n",
       "3           771                                                      \n",
       "4           529                                                      \n",
       "\n",
       "        created  \n",
       "0  1.487286e+09  \n",
       "1  1.511316e+09  \n",
       "2  1.517973e+09  \n",
       "3  1.566827e+09  \n",
       "4  1.511441e+09  "
      ]
     },
     "execution_count": 10,
     "metadata": {},
     "output_type": "execute_result"
    }
   ],
   "source": [
    "import pandas as pd\n",
    "\n",
    "recorded_posts = []\n",
    "\n",
    "scraped_posts = reddit.subreddit(\"WritingPrompts\").top(time_filter=\"all\",\n",
    "                                                      limit=None)\n",
    "\n",
    "for post in scraped_posts:\n",
    "    \n",
    "    recorded_posts.append([post.title, \n",
    "                              post.score, \n",
    "                              post.id, \n",
    "                              post.subreddit, \n",
    "                              post.url, \n",
    "                              post.num_comments, \n",
    "                              post.selftext, \n",
    "                              post.created])\n",
    "    \n",
    "top_posts_df = pd.DataFrame(recorded_posts,\n",
    "                     columns=['title', \n",
    "                              'score', \n",
    "                              'id', \n",
    "                              'subreddit', \n",
    "                              'url', \n",
    "                              'num_comments', \n",
    "                              'body', \n",
    "                              'created'])\n",
    "\n",
    "print(top_posts_df.shape[0], \"top posts of all time scraped.\")\n",
    "\n",
    "top_posts_df.head()"
   ]
  },
  {
   "cell_type": "markdown",
   "id": "b57079dd",
   "metadata": {},
   "source": [
    "### Check to see if we have the full titles"
   ]
  },
  {
   "cell_type": "code",
   "execution_count": 13,
   "id": "cfc6c58e",
   "metadata": {},
   "outputs": [
    {
     "data": {
      "text/plain": [
       "\"[WP] The year is 1910. Adolf Hitler, a struggling artist, has fought off dozens of assasination attemps by well meaning time travelers, but this one is different. This traveller doesn't want to kill Hitler, he wants to teach him to paint. He pulls off his hood to reveal the frizzy afro of Bob Ross.\""
      ]
     },
     "execution_count": 13,
     "metadata": {},
     "output_type": "execute_result"
    }
   ],
   "source": [
    "top_posts_df.title[0]"
   ]
  },
  {
   "cell_type": "markdown",
   "id": "5a99b3c9",
   "metadata": {},
   "source": [
    "## Export to CSV"
   ]
  },
  {
   "cell_type": "code",
   "execution_count": 16,
   "id": "71dc939a",
   "metadata": {},
   "outputs": [],
   "source": [
    "top_posts_df.to_csv(\"WritingPrompts_data.csv\", sep=',')"
   ]
  }
 ],
 "metadata": {
  "kernelspec": {
   "display_name": "Python 3 (ipykernel)",
   "language": "python",
   "name": "python3"
  },
  "language_info": {
   "codemirror_mode": {
    "name": "ipython",
    "version": 3
   },
   "file_extension": ".py",
   "mimetype": "text/x-python",
   "name": "python",
   "nbconvert_exporter": "python",
   "pygments_lexer": "ipython3",
   "version": "3.9.7"
  }
 },
 "nbformat": 4,
 "nbformat_minor": 5
}
