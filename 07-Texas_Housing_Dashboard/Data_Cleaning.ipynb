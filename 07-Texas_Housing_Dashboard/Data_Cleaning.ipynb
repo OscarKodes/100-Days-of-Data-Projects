{
 "cells": [
  {
   "cell_type": "markdown",
   "id": "253096ff",
   "metadata": {},
   "source": [
    "# Imports"
   ]
  },
  {
   "cell_type": "code",
   "execution_count": 1,
   "id": "12e14058",
   "metadata": {},
   "outputs": [
    {
     "name": "stdout",
     "output_type": "stream",
     "text": [
      "(15171, 47)\n"
     ]
    }
   ],
   "source": [
    "import numpy as np\n",
    "import pandas as pd\n",
    "import matplotlib.pyplot as plt\n",
    "import seaborn as sns\n",
    "\n",
    "%matplotlib inline\n",
    "\n",
    "import warnings\n",
    "warnings.filterwarnings('ignore')\n",
    "\n",
    "\n",
    "data = pd.read_csv(\"texas_housing_prices.csv\")\n",
    "\n",
    "print(data.shape)"
   ]
  },
  {
   "cell_type": "markdown",
   "id": "e1ad25ed",
   "metadata": {},
   "source": [
    "# Combine Elementary and Primary School"
   ]
  },
  {
   "cell_type": "code",
   "execution_count": 2,
   "id": "f52de907",
   "metadata": {},
   "outputs": [
    {
     "data": {
      "text/plain": [
       "1    14887\n",
       "0      219\n",
       "2       65\n",
       "Name: numOfElementarySchools, dtype: int64"
      ]
     },
     "execution_count": 2,
     "metadata": {},
     "output_type": "execute_result"
    }
   ],
   "source": [
    "# function taken from Texas regression project\n",
    "def add_columns_together(X, col1, col2):\n",
    "    \n",
    "    newCol = X[col1] + X[col2]\n",
    "    \n",
    "    X = X.drop(col2, axis=1)\n",
    "    \n",
    "    X[col1] = newCol\n",
    "    \n",
    "    return X\n",
    "\n",
    "data = add_columns_together(data, \"numOfElementarySchools\", \"numOfPrimarySchools\")\n",
    "\n",
    "\n",
    "data['numOfElementarySchools'].value_counts()"
   ]
  },
  {
   "cell_type": "markdown",
   "id": "39662956",
   "metadata": {},
   "source": [
    "# Create Bins\n",
    "- Bedrooms\n",
    "- Bathrooms\n",
    "- Stories\n",
    "- Garage Spaces"
   ]
  },
  {
   "cell_type": "code",
   "execution_count": 3,
   "id": "78230173",
   "metadata": {},
   "outputs": [
    {
     "data": {
      "text/plain": [
       "Index(['zpid', 'city', 'streetAddress', 'zipcode', 'description', 'latitude',\n",
       "       'longitude', 'propertyTaxRate', 'garageSpaces', 'hasAssociation',\n",
       "       'hasCooling', 'hasGarage', 'hasHeating', 'hasSpa', 'hasView',\n",
       "       'homeType', 'parkingSpaces', 'yearBuilt', 'latestPrice',\n",
       "       'numPriceChanges', 'latest_saledate', 'latest_salemonth',\n",
       "       'latest_saleyear', 'latestPriceSource', 'numOfPhotos',\n",
       "       'numOfAccessibilityFeatures', 'numOfAppliances', 'numOfParkingFeatures',\n",
       "       'numOfPatioAndPorchFeatures', 'numOfSecurityFeatures',\n",
       "       'numOfWaterfrontFeatures', 'numOfWindowFeatures',\n",
       "       'numOfCommunityFeatures', 'lotSizeSqFt', 'livingAreaSqFt',\n",
       "       'numOfElementarySchools', 'numOfMiddleSchools', 'numOfHighSchools',\n",
       "       'avgSchoolDistance', 'avgSchoolRating', 'avgSchoolSize',\n",
       "       'MedianStudentsPerTeacher', 'numOfBathrooms', 'numOfBedrooms',\n",
       "       'numOfStories', 'homeImage'],\n",
       "      dtype='object')"
      ]
     },
     "execution_count": 3,
     "metadata": {},
     "output_type": "execute_result"
    }
   ],
   "source": [
    "data.columns"
   ]
  },
  {
   "cell_type": "code",
   "execution_count": 19,
   "id": "0fde59e4",
   "metadata": {},
   "outputs": [
    {
     "name": "stdout",
     "output_type": "stream",
     "text": [
      "3 to 5    13801\n",
      "0 to 2     1209\n",
      "6 to 8      159\n",
      "9+            2\n",
      "Name: BIN:Bedrooms, dtype: int64\n"
     ]
    }
   ],
   "source": [
    "def recode(num):\n",
    "    \n",
    "    if num < 3:\n",
    "        return \"0 to 2\"\n",
    "    elif num < 6:\n",
    "        return \"3 to 5\"\n",
    "    elif num < 9:\n",
    "        return \"6 to 8\"\n",
    "    elif num >= 9:\n",
    "        return \"9+\"\n",
    "\n",
    "\n",
    "data[\"BIN:Bedrooms\"] = data['numOfBedrooms'].apply(recode)\n",
    "\n",
    "\n",
    "print(data[\"BIN:Bedrooms\"].value_counts())"
   ]
  },
  {
   "cell_type": "code",
   "execution_count": 21,
   "id": "28d883ff",
   "metadata": {},
   "outputs": [
    {
     "name": "stdout",
     "output_type": "stream",
     "text": [
      "3 to 5    7623\n",
      "0 to 2    7303\n",
      "6 to 8     236\n",
      "9+           9\n",
      "Name: BIN:Bathrooms, dtype: int64\n"
     ]
    }
   ],
   "source": [
    "def recode(num):\n",
    "    \n",
    "    if num < 3:\n",
    "        return \"0 to 2\"\n",
    "    elif num < 6:\n",
    "        return \"3 to 5\"\n",
    "    elif num < 9:\n",
    "        return \"6 to 8\"\n",
    "    elif num >= 9:\n",
    "        return \"9+\"\n",
    "\n",
    "\n",
    "data[\"BIN:Bathrooms\"] = data['numOfBathrooms'].apply(recode)\n",
    "\n",
    "print(data[\"BIN:Bathrooms\"].value_counts())"
   ]
  },
  {
   "cell_type": "code",
   "execution_count": 22,
   "id": "f10c9cd9",
   "metadata": {},
   "outputs": [
    {
     "name": "stdout",
     "output_type": "stream",
     "text": [
      "0 to 1    7924\n",
      "2 to 3    6446\n",
      "4 to 5     655\n",
      "6+         146\n",
      "Name: BIN:Garages, dtype: int64\n"
     ]
    }
   ],
   "source": [
    "def recode(num):\n",
    "    \n",
    "    if num < 2:\n",
    "        return \"0 to 1\"\n",
    "    elif num < 4:\n",
    "        return \"2 to 3\"\n",
    "    elif num < 6:\n",
    "        return \"4 to 5\"\n",
    "    elif num >= 6:\n",
    "        return \"6+\"\n",
    "\n",
    "\n",
    "data[\"BIN:Garages\"] = data['garageSpaces'].apply(recode)\n",
    "\n",
    "print(data[\"BIN:Garages\"].value_counts())\n",
    "\n"
   ]
  },
  {
   "cell_type": "code",
   "execution_count": 25,
   "id": "34f1b8c2",
   "metadata": {},
   "outputs": [
    {
     "name": "stdout",
     "output_type": "stream",
     "text": [
      "1 Story      8268\n",
      "2 Stories    6723\n",
      "3 Stories     174\n",
      "4 Stories       6\n",
      "Name: BIN:Stories, dtype: int64\n"
     ]
    }
   ],
   "source": [
    "def recode(num):\n",
    "    \n",
    "    if num == 1:\n",
    "        return \"1 Story\"\n",
    "    elif num == 2:\n",
    "        return \"2 Stories\"\n",
    "    elif num == 3:\n",
    "        return \"3 Stories\"\n",
    "    elif num == 4:\n",
    "        return \"4 Stories\"\n",
    "\n",
    "\n",
    "data[\"BIN:Stories\"] = data['numOfStories'].apply(recode)\n",
    "\n",
    "print(data[\"BIN:Stories\"].value_counts())\n",
    "\n"
   ]
  },
  {
   "cell_type": "code",
   "execution_count": 26,
   "id": "3797c819",
   "metadata": {},
   "outputs": [
    {
     "name": "stdout",
     "output_type": "stream",
     "text": [
      "<class 'pandas.core.frame.DataFrame'>\n",
      "RangeIndex: 15171 entries, 0 to 15170\n",
      "Data columns (total 4 columns):\n",
      " #   Column         Non-Null Count  Dtype \n",
      "---  ------         --------------  ----- \n",
      " 0   BIN:Bedrooms   15171 non-null  object\n",
      " 1   BIN:Bathrooms  15171 non-null  object\n",
      " 2   BIN:Garages    15171 non-null  object\n",
      " 3   BIN:Stories    15171 non-null  object\n",
      "dtypes: object(4)\n",
      "memory usage: 474.2+ KB\n"
     ]
    }
   ],
   "source": [
    "binFeatures = ['BIN:Bedrooms', 'BIN:Bathrooms', 'BIN:Garages', 'BIN:Stories']\n",
    "\n",
    "data[binFeatures].info()"
   ]
  },
  {
   "cell_type": "markdown",
   "id": "3898d039",
   "metadata": {},
   "source": [
    "# Export"
   ]
  },
  {
   "cell_type": "code",
   "execution_count": 27,
   "id": "17b4ee2c",
   "metadata": {},
   "outputs": [],
   "source": [
    "data.to_csv(\"cleaned_data.csv\")"
   ]
  }
 ],
 "metadata": {
  "kernelspec": {
   "display_name": "Python 3 (ipykernel)",
   "language": "python",
   "name": "python3"
  },
  "language_info": {
   "codemirror_mode": {
    "name": "ipython",
    "version": 3
   },
   "file_extension": ".py",
   "mimetype": "text/x-python",
   "name": "python",
   "nbconvert_exporter": "python",
   "pygments_lexer": "ipython3",
   "version": "3.9.7"
  }
 },
 "nbformat": 4,
 "nbformat_minor": 5
}
